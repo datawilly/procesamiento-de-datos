{
  "cells": [
    {
      "cell_type": "markdown",
      "metadata": {
        "id": "view-in-github",
        "colab_type": "text"
      },
      "source": [
        "<a href=\"https://colab.research.google.com/github/datawilly/procesamiento-de-datos/blob/main/ROSALES_WILLIAM_PEC_1.ipynb\" target=\"_parent\"><img src=\"https://colab.research.google.com/assets/colab-badge.svg\" alt=\"Open In Colab\"/></a>"
      ]
    },
    {
      "cell_type": "markdown",
      "metadata": {
        "id": "Gy0Fzz0NlyOY"
      },
      "source": [
        "<a name = \"inicio\"></a>\n",
        "![image-2.png](attachment:image-2.png)\n",
        "<p style=\"text-align:center;font-size:30px;font-weight: bold;\">PRUEBA DE EVALUACIÓN CONTINUA</p>"
      ]
    },
    {
      "cell_type": "markdown",
      "metadata": {
        "id": "D-1BwdWOlyOb"
      },
      "source": [
        "# Objetivos\n",
        "\n",
        "El objetivo de esta PEC es evaluar el conocimiento del alumno en el uso de las librerías de Python **NumPy**, **pandas**, **matplotlib** y **Seaborn**, aplicándolas en la visualización y transformación de conjuntos de datos.\n",
        "\n",
        "La prueba consta de tres bloques de preguntas correspondientes a tres niveles de dificultad:\n",
        "\n",
        "* **Nivel básico**, en las que el alumno deberá ser capaz de realizar tareas, ejercicios o prácticas similares a las aprendidas en la documentación del módulo.\n",
        "* **Nivel intermedio**, en las que el alumno deberá ser capaz de aplicar las técnicas, conocimientos y habilidades revisadas en la documentación a problemas con elementos diferentes.\n",
        "* **Nivel avanzado**, en las que el alumno deberá ser capaz de amplicar las técnicas, conocimientos y habilidades aprendidas investigando nuevos aspectos, problemas o elementos."
      ]
    },
    {
      "cell_type": "markdown",
      "metadata": {
        "id": "3IczLXjflyOb"
      },
      "source": [
        "# Importante\n",
        "\n",
        "* El alumno deberá completar este cuaderno sin modificar las preguntas ni modificar la estructura del propio cuaderno (se pueden añadir celdas, pero no modificar ni eliminar las existentes)\n",
        "* El entregable será el cuaderno Jupyter (no ficheros planos con código python, ni PDF's ni material en ningún otro soporte)\n",
        "* El cuaderno Jupyter con las respuestas deberá poder ser reejecutado sin que se produzca ningún error\n",
        "* Salvo que se pida lo contrario, no se cargará ningún fichero desde el equipo local. Si se pide cargar una imagen y se indica la url de la que descargarla, esto podrá hacerse copiando la url, pegándola en la barra de direcciones de un navegador, haciendo clic con el botón secundario del ratón en la imagen y seleccionando la opción que la descargue (esta opción dependerá del navegador que se esté usando). En este caso la imagen deberá descargarse en la misma carpeta en la que esté este cuaderno Jupyter.\n",
        "* Salvo que se especifique otra cosa, deberán utilizarse siempre las herramientas proveídas por las librerías NumPy, Pandas, Seaborn o Matplotlib. No puede recurrirse a otras librerías.\n",
        "* Salvo que se indique lo contrario, en cada ejercicio deberán cargarse los datos necesarios aun cuando hayan sido cargados en ejercicios anteriores (es decir, si el ejercicio hace referencia al DataFrame Tips de Seaborn, salvo que se especifique otra cosa lo primero que deberá hacerse es cargar dicho DataFrame, aun cuando haya sido cargado ya en un ejercicio anterior).\n",
        "\n",
        "El incumplimiento de cualquiera de estas normal supondrá la invalidación del ejercicio o del apartado correspondiente.\n",
        "\n",
        "Todos los ejercicios tienen el mismo valor (un punto) salvo el del nivel avanzado, que tiene dos puntos."
      ]
    },
    {
      "cell_type": "markdown",
      "metadata": {
        "id": "WZiyE9WrlyOd"
      },
      "source": [
        "* [NIVEL BÁSICO: 5 puntos](#NIVEL-BÁSICO:-5-puntos)\n",
        "* [NIVEL INTERMEDIO: 3 puntos](#NIVEL-INTERMEDIO:-3-puntos)\n",
        "* [NIVEL AVANZADO: 2 puntos](#NIVEL-AVANZADO:-2-puntos)"
      ]
    },
    {
      "cell_type": "code",
      "execution_count": null,
      "metadata": {
        "id": "5jk0jxIclyOd"
      },
      "outputs": [],
      "source": [
        "import pandas as pd\n",
        "import numpy as np\n",
        "import seaborn as sns\n",
        "import matplotlib.pyplot as plt"
      ]
    },
    {
      "cell_type": "markdown",
      "metadata": {
        "id": "Q6CatxuVlyOf"
      },
      "source": [
        "**IMPORTAMOS LAS LIBRERIAS A USAR**  \n",
        "En la celda anterior se importan las librerias que se van a usar asignandoles su alias"
      ]
    },
    {
      "cell_type": "markdown",
      "metadata": {
        "id": "8pGc8kVYlyOg"
      },
      "source": [
        "# NIVEL BÁSICO: 5 puntos\n",
        "<div style = \"float:right\"><a style=\"text-decoration:none\" href = \"#inicio\">Inicio</a></div>"
      ]
    },
    {
      "cell_type": "markdown",
      "metadata": {
        "id": "LzOmMhF6lyOg"
      },
      "source": [
        "### Ejercicio 1\n",
        "<div style=\"background:#5D6D7E;padding:20px;color:#ffffff;margin-top:10px;\">\n",
        "Crea dos arrays unidimensionales de 5 valores aleatorios enteros entre 0 y 10 (ambos valores incluidos). Crea un nuevo array que concatene los dos arrays anteriores verticalmente para formar un array de 5 filas y dos columnas y asigna el resultado a la varible <strong>a</strong>.\n",
        "</div>"
      ]
    },
    {
      "cell_type": "markdown",
      "metadata": {
        "id": "rO7LdeKZlyOh"
      },
      "source": [
        "**EJERCICIO 1**  \n",
        "**Linea 1:** Generamos el primer array unidimensional aleatorio entre 0 y 11 para que me incluya el numero 10.  \n",
        "**Linea 2:** Generamos el segundo array unidimensional aleatorio entre 0 y 11 para que me incluya el numero 10.  \n",
        "**Linea 3:** Concatenamos ambos arrays y usamos column y le pasamos los dos arrays creados en las lineas anteriores y lo asignamos a la variable \"a\".  \n",
        "**Linea 4:** Mostramos el nuevo array."
      ]
    },
    {
      "cell_type": "code",
      "execution_count": null,
      "metadata": {
        "id": "lEieFJaSlyOi",
        "outputId": "201e9d31-a569-43fb-85f0-10e6e09c050d"
      },
      "outputs": [
        {
          "data": {
            "text/plain": [
              "array([[10,  3],\n",
              "       [ 1,  1],\n",
              "       [ 4,  6],\n",
              "       [ 6,  8],\n",
              "       [ 6,  3]])"
            ]
          },
          "execution_count": 2,
          "metadata": {},
          "output_type": "execute_result"
        }
      ],
      "source": [
        "m = np.random.randint(0,11,5)\n",
        "n = np.random.randint(0,11,5)\n",
        "a = np.column_stack([m,n])\n",
        "a"
      ]
    },
    {
      "cell_type": "markdown",
      "metadata": {
        "id": "KhsGM6ZVlyOk"
      },
      "source": [
        "<div style=\"background:#D8D8D8;padding:20px;color:#000000;margin-top:10px;\">\n",
        "Prueba ahora tu solución ejecutando la siguiente celda:\n",
        "</div>"
      ]
    },
    {
      "cell_type": "code",
      "execution_count": null,
      "metadata": {
        "id": "OEp5KnA0lyOk",
        "outputId": "88ba98a0-becc-459a-a878-366ec8b5ec8a"
      },
      "outputs": [
        {
          "data": {
            "text/plain": [
              "(5, 2)"
            ]
          },
          "execution_count": 3,
          "metadata": {},
          "output_type": "execute_result"
        }
      ],
      "source": [
        "a.shape"
      ]
    },
    {
      "cell_type": "markdown",
      "metadata": {
        "id": "cBMEskSYlyOl"
      },
      "source": [
        "### Ejercicio 2\n",
        "<div style=\"background:#5D6D7E;padding:20px;color:#ffffff;margin-top:10px;\">\n",
        "Crea un array de dimensiones 5x10 formado por valores aleatorios enteros entre 0 y 10 (ambos valores incluidos) y cárgalo en la variable data. Sin usar bucles, sustituye los valores menores a 5 por 0.\n",
        "</div>"
      ]
    },
    {
      "cell_type": "markdown",
      "metadata": {
        "id": "EPFRRs8wlyOl"
      },
      "source": [
        "**EJERCICIO 2**  \n",
        "**Linea 1:** Generamos un nuevo array aleatorio pero en este caso le asignamos las filas y columnas solicitadas con **[]**, y lo asignamos a la variable data.    \n",
        "**Linea 2:** Usamos el metodo **where** que nos permite establecer una condicion para reemplazar los valores, en este caso reemplazamos los menores a 5 con 0 y los que no cumplan esta condicion quedan iguales"
      ]
    },
    {
      "cell_type": "code",
      "execution_count": null,
      "metadata": {
        "id": "3fIgqtdElyOm"
      },
      "outputs": [],
      "source": [
        "data = np.random.randint(0,11,[5,10]) #Generamos un array esta vez indicandole las filas y las columnas entre []\n",
        "data = np.where(data < 5, 0 , data ) #Usamos el metodo where para hacer los reemplazos"
      ]
    },
    {
      "cell_type": "markdown",
      "metadata": {
        "id": "fKIYfEZLlyOm"
      },
      "source": [
        "<div style=\"background:#D8D8D8;padding:20px;color:#000000;margin-top:10px;\">\n",
        "Prueba ahora tu solución ejecutando la siguiente celda (el array no deberá incluir valores menores a 5 salvo los ceros):\n",
        "</div>"
      ]
    },
    {
      "cell_type": "code",
      "execution_count": null,
      "metadata": {
        "id": "5ivmXmEylyOm",
        "outputId": "73527884-da5c-4765-d125-548933a0a4ba"
      },
      "outputs": [
        {
          "data": {
            "text/plain": [
              "array([[ 8,  0,  7,  8,  0,  0,  0,  5,  9,  5],\n",
              "       [ 0,  7, 10,  0,  0,  9,  0,  0,  8,  5],\n",
              "       [ 9,  6,  0,  9,  0, 10,  9,  8, 10,  8],\n",
              "       [ 0,  9,  5,  0,  0,  0,  0,  0,  0,  0],\n",
              "       [ 0,  9,  0,  0,  0,  0,  5,  6,  7,  0]])"
            ]
          },
          "execution_count": 5,
          "metadata": {},
          "output_type": "execute_result"
        }
      ],
      "source": [
        "data"
      ]
    },
    {
      "cell_type": "markdown",
      "metadata": {
        "id": "_u2-S-MRlyOn"
      },
      "source": [
        "### Ejercicio 3\n",
        "<div style=\"background:#5D6D7E;padding:20px;color:#ffffff;margin-top:10px;\">\n",
        "A partir del DataFrame Tips de la librería Seaborn extrae los valores de la cuarta y segunda filas en este orden (es decir, las filas con índice 3 y 1), y las columnas \"sex\", \"size\" y \"tip\" (también en este orden). Asigna el resultado a la variable <strong>sample</strong>.<br>\n",
        "Para obtener la máxima nota, la selección deberá realizarse en un único paso.\n",
        "</div>"
      ]
    },
    {
      "cell_type": "markdown",
      "metadata": {
        "id": "Jr8-7u0ilyOn"
      },
      "source": [
        "**EJERCICIO 3**  \n",
        "**Linea 1:** Cargamos el dataset \"tips\", usamos el metodo **loc** para extraer la tercera y primera fila en ese orden y a continuacion pasamos una **lista** con las columnas solicitadas, todo esto lo asignamos a la variable \"sample\"."
      ]
    },
    {
      "cell_type": "code",
      "execution_count": null,
      "metadata": {
        "id": "Zg91SLeKlyOn"
      },
      "outputs": [],
      "source": [
        "sample = sns.load_dataset(\"tips\").loc[[3,1],[\"sex\", \"size\", \"tip\"]]"
      ]
    },
    {
      "cell_type": "markdown",
      "metadata": {
        "id": "6_PolttDlyOo"
      },
      "source": [
        "<div style=\"background:#D8D8D8;padding:20px;color:#000000;margin-top:10px;\">\n",
        "Prueba ahora tu solución ejecutando la siguiente celda:\n",
        "</div>"
      ]
    },
    {
      "cell_type": "code",
      "execution_count": null,
      "metadata": {
        "id": "IdTG9AIrlyOo",
        "outputId": "6874914c-0572-444a-a125-fe491be305fc"
      },
      "outputs": [
        {
          "data": {
            "text/html": [
              "<div>\n",
              "<style scoped>\n",
              "    .dataframe tbody tr th:only-of-type {\n",
              "        vertical-align: middle;\n",
              "    }\n",
              "\n",
              "    .dataframe tbody tr th {\n",
              "        vertical-align: top;\n",
              "    }\n",
              "\n",
              "    .dataframe thead th {\n",
              "        text-align: right;\n",
              "    }\n",
              "</style>\n",
              "<table border=\"1\" class=\"dataframe\">\n",
              "  <thead>\n",
              "    <tr style=\"text-align: right;\">\n",
              "      <th></th>\n",
              "      <th>sex</th>\n",
              "      <th>size</th>\n",
              "      <th>tip</th>\n",
              "    </tr>\n",
              "  </thead>\n",
              "  <tbody>\n",
              "    <tr>\n",
              "      <th>3</th>\n",
              "      <td>Male</td>\n",
              "      <td>2</td>\n",
              "      <td>3.31</td>\n",
              "    </tr>\n",
              "    <tr>\n",
              "      <th>1</th>\n",
              "      <td>Male</td>\n",
              "      <td>3</td>\n",
              "      <td>1.66</td>\n",
              "    </tr>\n",
              "  </tbody>\n",
              "</table>\n",
              "</div>"
            ],
            "text/plain": [
              "    sex  size   tip\n",
              "3  Male     2  3.31\n",
              "1  Male     3  1.66"
            ]
          },
          "execution_count": 7,
          "metadata": {},
          "output_type": "execute_result"
        }
      ],
      "source": [
        "sample"
      ]
    },
    {
      "cell_type": "markdown",
      "metadata": {
        "id": "ZQu1pifPlyOp"
      },
      "source": [
        "### Ejercicio 4\n",
        "<div style=\"background:#5D6D7E;padding:20px;color:#ffffff;margin-top:10px;\">\n",
        "    Carga en la variable <strong>tips</strong> el DataFrame tips proveído por la librería Seaborn. Crea una nueva columna (\"total\") que sume el valor de la columna \"total_bill\" y el de la columna \"tips\". Suponiendo que quien haya pagado cada comida ha pagado la cantidad indicada en la columna recién creada ¿cuántos clientes han desembolsado 40 o más dólares en total?\n",
        "</div>"
      ]
    },
    {
      "cell_type": "markdown",
      "metadata": {
        "id": "MXtQpfAOlyOp"
      },
      "source": [
        "**EJERCICIO 4**  \n",
        "**Linea 1:** Cargamos la libreria \"tips\".  \n",
        "**Linea 2:** Generamos la nueva columna \"total\" la cual nos va a almacenar la **suma** entre las columnas \"total_bill\" y \"tip\" que representa el valor total desembolsado por el cliente.  \n",
        "**Linea 3:** Usando el metodo **loc** extraemos todas las filas de nuestra nueva columna \"total\" donde su valor sea mayor o igual a 40 y lo asigno a un nuevo dataframe \"total_tips\" para no sobreescribir el original.  \n",
        "**Linea 4:** Mostramos nuestro nuevo dataframe.  \n",
        "**Linea 5:** Usando el metodo **count** podemos saber cuantos elementos tiene nuestra nueva columna, es decir que 19 personas desembolsaron 40 o mas dolares incluida la propina."
      ]
    },
    {
      "cell_type": "code",
      "execution_count": null,
      "metadata": {
        "scrolled": true,
        "id": "4spuyqMWlyOp",
        "outputId": "e1c742a3-24e0-487d-93f7-6dad7d25ff40"
      },
      "outputs": [
        {
          "data": {
            "text/html": [
              "<div>\n",
              "<style scoped>\n",
              "    .dataframe tbody tr th:only-of-type {\n",
              "        vertical-align: middle;\n",
              "    }\n",
              "\n",
              "    .dataframe tbody tr th {\n",
              "        vertical-align: top;\n",
              "    }\n",
              "\n",
              "    .dataframe thead th {\n",
              "        text-align: right;\n",
              "    }\n",
              "</style>\n",
              "<table border=\"1\" class=\"dataframe\">\n",
              "  <thead>\n",
              "    <tr style=\"text-align: right;\">\n",
              "      <th></th>\n",
              "      <th>total_bill</th>\n",
              "      <th>tip</th>\n",
              "      <th>sex</th>\n",
              "      <th>smoker</th>\n",
              "      <th>day</th>\n",
              "      <th>time</th>\n",
              "      <th>size</th>\n",
              "      <th>total</th>\n",
              "    </tr>\n",
              "  </thead>\n",
              "  <tbody>\n",
              "    <tr>\n",
              "      <th>11</th>\n",
              "      <td>35.26</td>\n",
              "      <td>5.00</td>\n",
              "      <td>Female</td>\n",
              "      <td>No</td>\n",
              "      <td>Sun</td>\n",
              "      <td>Dinner</td>\n",
              "      <td>4</td>\n",
              "      <td>40.26</td>\n",
              "    </tr>\n",
              "    <tr>\n",
              "      <th>23</th>\n",
              "      <td>39.42</td>\n",
              "      <td>7.58</td>\n",
              "      <td>Male</td>\n",
              "      <td>No</td>\n",
              "      <td>Sat</td>\n",
              "      <td>Dinner</td>\n",
              "      <td>4</td>\n",
              "      <td>47.00</td>\n",
              "    </tr>\n",
              "    <tr>\n",
              "      <th>52</th>\n",
              "      <td>34.81</td>\n",
              "      <td>5.20</td>\n",
              "      <td>Female</td>\n",
              "      <td>No</td>\n",
              "      <td>Sun</td>\n",
              "      <td>Dinner</td>\n",
              "      <td>4</td>\n",
              "      <td>40.01</td>\n",
              "    </tr>\n",
              "    <tr>\n",
              "      <th>56</th>\n",
              "      <td>38.01</td>\n",
              "      <td>3.00</td>\n",
              "      <td>Male</td>\n",
              "      <td>Yes</td>\n",
              "      <td>Sat</td>\n",
              "      <td>Dinner</td>\n",
              "      <td>4</td>\n",
              "      <td>41.01</td>\n",
              "    </tr>\n",
              "    <tr>\n",
              "      <th>59</th>\n",
              "      <td>48.27</td>\n",
              "      <td>6.73</td>\n",
              "      <td>Male</td>\n",
              "      <td>No</td>\n",
              "      <td>Sat</td>\n",
              "      <td>Dinner</td>\n",
              "      <td>4</td>\n",
              "      <td>55.00</td>\n",
              "    </tr>\n",
              "    <tr>\n",
              "      <th>85</th>\n",
              "      <td>34.83</td>\n",
              "      <td>5.17</td>\n",
              "      <td>Female</td>\n",
              "      <td>No</td>\n",
              "      <td>Thur</td>\n",
              "      <td>Lunch</td>\n",
              "      <td>4</td>\n",
              "      <td>40.00</td>\n",
              "    </tr>\n",
              "    <tr>\n",
              "      <th>95</th>\n",
              "      <td>40.17</td>\n",
              "      <td>4.73</td>\n",
              "      <td>Male</td>\n",
              "      <td>Yes</td>\n",
              "      <td>Fri</td>\n",
              "      <td>Dinner</td>\n",
              "      <td>4</td>\n",
              "      <td>44.90</td>\n",
              "    </tr>\n",
              "    <tr>\n",
              "      <th>102</th>\n",
              "      <td>44.30</td>\n",
              "      <td>2.50</td>\n",
              "      <td>Female</td>\n",
              "      <td>Yes</td>\n",
              "      <td>Sat</td>\n",
              "      <td>Dinner</td>\n",
              "      <td>3</td>\n",
              "      <td>46.80</td>\n",
              "    </tr>\n",
              "    <tr>\n",
              "      <th>112</th>\n",
              "      <td>38.07</td>\n",
              "      <td>4.00</td>\n",
              "      <td>Male</td>\n",
              "      <td>No</td>\n",
              "      <td>Sun</td>\n",
              "      <td>Dinner</td>\n",
              "      <td>3</td>\n",
              "      <td>42.07</td>\n",
              "    </tr>\n",
              "    <tr>\n",
              "      <th>141</th>\n",
              "      <td>34.30</td>\n",
              "      <td>6.70</td>\n",
              "      <td>Male</td>\n",
              "      <td>No</td>\n",
              "      <td>Thur</td>\n",
              "      <td>Lunch</td>\n",
              "      <td>6</td>\n",
              "      <td>41.00</td>\n",
              "    </tr>\n",
              "    <tr>\n",
              "      <th>142</th>\n",
              "      <td>41.19</td>\n",
              "      <td>5.00</td>\n",
              "      <td>Male</td>\n",
              "      <td>No</td>\n",
              "      <td>Thur</td>\n",
              "      <td>Lunch</td>\n",
              "      <td>5</td>\n",
              "      <td>46.19</td>\n",
              "    </tr>\n",
              "    <tr>\n",
              "      <th>156</th>\n",
              "      <td>48.17</td>\n",
              "      <td>5.00</td>\n",
              "      <td>Male</td>\n",
              "      <td>No</td>\n",
              "      <td>Sun</td>\n",
              "      <td>Dinner</td>\n",
              "      <td>6</td>\n",
              "      <td>53.17</td>\n",
              "    </tr>\n",
              "    <tr>\n",
              "      <th>170</th>\n",
              "      <td>50.81</td>\n",
              "      <td>10.00</td>\n",
              "      <td>Male</td>\n",
              "      <td>Yes</td>\n",
              "      <td>Sat</td>\n",
              "      <td>Dinner</td>\n",
              "      <td>3</td>\n",
              "      <td>60.81</td>\n",
              "    </tr>\n",
              "    <tr>\n",
              "      <th>182</th>\n",
              "      <td>45.35</td>\n",
              "      <td>3.50</td>\n",
              "      <td>Male</td>\n",
              "      <td>Yes</td>\n",
              "      <td>Sun</td>\n",
              "      <td>Dinner</td>\n",
              "      <td>3</td>\n",
              "      <td>48.85</td>\n",
              "    </tr>\n",
              "    <tr>\n",
              "      <th>184</th>\n",
              "      <td>40.55</td>\n",
              "      <td>3.00</td>\n",
              "      <td>Male</td>\n",
              "      <td>Yes</td>\n",
              "      <td>Sun</td>\n",
              "      <td>Dinner</td>\n",
              "      <td>2</td>\n",
              "      <td>43.55</td>\n",
              "    </tr>\n",
              "    <tr>\n",
              "      <th>197</th>\n",
              "      <td>43.11</td>\n",
              "      <td>5.00</td>\n",
              "      <td>Female</td>\n",
              "      <td>Yes</td>\n",
              "      <td>Thur</td>\n",
              "      <td>Lunch</td>\n",
              "      <td>4</td>\n",
              "      <td>48.11</td>\n",
              "    </tr>\n",
              "    <tr>\n",
              "      <th>207</th>\n",
              "      <td>38.73</td>\n",
              "      <td>3.00</td>\n",
              "      <td>Male</td>\n",
              "      <td>Yes</td>\n",
              "      <td>Sat</td>\n",
              "      <td>Dinner</td>\n",
              "      <td>4</td>\n",
              "      <td>41.73</td>\n",
              "    </tr>\n",
              "    <tr>\n",
              "      <th>212</th>\n",
              "      <td>48.33</td>\n",
              "      <td>9.00</td>\n",
              "      <td>Male</td>\n",
              "      <td>No</td>\n",
              "      <td>Sat</td>\n",
              "      <td>Dinner</td>\n",
              "      <td>4</td>\n",
              "      <td>57.33</td>\n",
              "    </tr>\n",
              "    <tr>\n",
              "      <th>238</th>\n",
              "      <td>35.83</td>\n",
              "      <td>4.67</td>\n",
              "      <td>Female</td>\n",
              "      <td>No</td>\n",
              "      <td>Sat</td>\n",
              "      <td>Dinner</td>\n",
              "      <td>3</td>\n",
              "      <td>40.50</td>\n",
              "    </tr>\n",
              "  </tbody>\n",
              "</table>\n",
              "</div>"
            ],
            "text/plain": [
              "     total_bill    tip     sex smoker   day    time  size  total\n",
              "11        35.26   5.00  Female     No   Sun  Dinner     4  40.26\n",
              "23        39.42   7.58    Male     No   Sat  Dinner     4  47.00\n",
              "52        34.81   5.20  Female     No   Sun  Dinner     4  40.01\n",
              "56        38.01   3.00    Male    Yes   Sat  Dinner     4  41.01\n",
              "59        48.27   6.73    Male     No   Sat  Dinner     4  55.00\n",
              "85        34.83   5.17  Female     No  Thur   Lunch     4  40.00\n",
              "95        40.17   4.73    Male    Yes   Fri  Dinner     4  44.90\n",
              "102       44.30   2.50  Female    Yes   Sat  Dinner     3  46.80\n",
              "112       38.07   4.00    Male     No   Sun  Dinner     3  42.07\n",
              "141       34.30   6.70    Male     No  Thur   Lunch     6  41.00\n",
              "142       41.19   5.00    Male     No  Thur   Lunch     5  46.19\n",
              "156       48.17   5.00    Male     No   Sun  Dinner     6  53.17\n",
              "170       50.81  10.00    Male    Yes   Sat  Dinner     3  60.81\n",
              "182       45.35   3.50    Male    Yes   Sun  Dinner     3  48.85\n",
              "184       40.55   3.00    Male    Yes   Sun  Dinner     2  43.55\n",
              "197       43.11   5.00  Female    Yes  Thur   Lunch     4  48.11\n",
              "207       38.73   3.00    Male    Yes   Sat  Dinner     4  41.73\n",
              "212       48.33   9.00    Male     No   Sat  Dinner     4  57.33\n",
              "238       35.83   4.67  Female     No   Sat  Dinner     3  40.50"
            ]
          },
          "execution_count": 8,
          "metadata": {},
          "output_type": "execute_result"
        }
      ],
      "source": [
        "tips = sns.load_dataset(\"tips\")\n",
        "tips[\"total\"] = tips[\"total_bill\"]+tips[\"tip\"]\n",
        "total_tips = tips.loc[tips.total >= 40]\n",
        "total_tips"
      ]
    },
    {
      "cell_type": "code",
      "execution_count": null,
      "metadata": {
        "id": "l5fd8YdDlyOq",
        "outputId": "545d2fcb-1761-4c68-82b8-57c80b92b783"
      },
      "outputs": [
        {
          "data": {
            "text/plain": [
              "19"
            ]
          },
          "execution_count": 9,
          "metadata": {},
          "output_type": "execute_result"
        }
      ],
      "source": [
        "total_tips.total.count()"
      ]
    },
    {
      "cell_type": "markdown",
      "metadata": {
        "id": "aJoQeui5lyOq"
      },
      "source": [
        "### Ejercicio 5\n",
        "<div style=\"background:#5D6D7E;padding:20px;color:#ffffff;margin-top:10px;\">\n",
        "Escribe una función (llámala \"nulls_number\") que reciba como argumento un DataFrame Pandas y devuelva el número de valores nulos que contenga en total (es decir, entre todas las columnas).\n",
        "</div>"
      ]
    },
    {
      "cell_type": "markdown",
      "metadata": {
        "id": "ActgAP8GlyOr"
      },
      "source": [
        "**EJERCICIO 5**  \n",
        "**Linea 1:** Definimos nuestra funcion y le indicamos que tome como parametro **df**  \n",
        "**Linea 2:** Establecemos la funcion, en este caso queremos que tome el parametro df (nuestro dataframe), a continuacion con el parametro **isnull** va a buscar los campos que tengan valores nulos, despues con **sum** va a hacer una suma de estos por cada columna, como en este caso queremos saber el **total** de valores en todas las columnas volvemos a aplicar el metodo **sum** para que nos de un solo numero."
      ]
    },
    {
      "cell_type": "code",
      "execution_count": null,
      "metadata": {
        "id": "OQTqEbsOlyOr"
      },
      "outputs": [],
      "source": [
        "def nulls_number(df):\n",
        "    return df.isnull().sum().sum()"
      ]
    },
    {
      "cell_type": "markdown",
      "metadata": {
        "id": "pYr52EymlyOs"
      },
      "source": [
        "<div style=\"background:#D8D8D8;padding:20px;color:#000000;margin-top:10px;\">\n",
        "Prueba ahora tu solución ejecutando la siguiente celda:\n",
        "</div"
      ]
    },
    {
      "cell_type": "code",
      "execution_count": null,
      "metadata": {
        "scrolled": true,
        "id": "w5jFsOtKlyOs",
        "outputId": "72db3613-e82d-47af-9cfa-6da18d5cc609"
      },
      "outputs": [
        {
          "data": {
            "text/plain": [
              "869"
            ]
          },
          "execution_count": 11,
          "metadata": {},
          "output_type": "execute_result"
        }
      ],
      "source": [
        "titanic = sns.load_dataset(\"titanic\")\n",
        "nulls_number(titanic)"
      ]
    },
    {
      "cell_type": "markdown",
      "metadata": {
        "id": "FWKF5_SalyOs"
      },
      "source": [
        "# NIVEL INTERMEDIO: 3 puntos\n",
        "<div style = \"float:right\"><a style=\"text-decoration:none\" href = \"#inicio\">Inicio</a></div>"
      ]
    },
    {
      "cell_type": "markdown",
      "metadata": {
        "id": "QKyJ4M5ylyOt"
      },
      "source": [
        "### Ejercicio 1\n",
        "<div style=\"background:#5D6D7E;padding:20px;color:#ffffff;margin-top:10px;\">\n",
        "A partir del DataFrame Titanic descargado de la librería Seaborn y creando una tabla dinámica a partir de él, responde a la siguiente pregunta: ¿En qué puerto los hombres y las mujeres de alguna clase (primera, segunda o tercera) pagaron en media exactamente lo mismo por su pasaje?\n",
        "</div>"
      ]
    },
    {
      "cell_type": "markdown",
      "metadata": {
        "id": "rUpzFLFFlyOt"
      },
      "source": [
        "**EJERCICIO 1**  \n",
        "**Linea 1:**  Cargamos nuestro dataset \"titanic\" y lo guardamos en el dataframe del mismo nombre  \n",
        "**Linea 2:** Usamos el metodo **pivot_table** para generar nuestra nueva tabla dinamica en este caso como filas queremos el puerto de embarque y el sexo, como columnas seleccionamos la clase y como valores el precio promedio pagado por persona, para esto usamos como agregador **mean** y lo asignamos a titanic2  \n",
        "**Linea 3:** Mostramos nuestro nuevo dataframe y respondiendo a nuestra pregunta: *En el puerto de Queenstown los hombres y las mujeres de primera y segunda clase pagaron el mismo valor por su pasaje*"
      ]
    },
    {
      "cell_type": "code",
      "execution_count": null,
      "metadata": {
        "id": "0c_IO6RVlyOt",
        "outputId": "9af6164c-8a7b-41d2-a253-d2bfc13693dd"
      },
      "outputs": [
        {
          "data": {
            "text/html": [
              "<div>\n",
              "<style scoped>\n",
              "    .dataframe tbody tr th:only-of-type {\n",
              "        vertical-align: middle;\n",
              "    }\n",
              "\n",
              "    .dataframe tbody tr th {\n",
              "        vertical-align: top;\n",
              "    }\n",
              "\n",
              "    .dataframe thead tr th {\n",
              "        text-align: left;\n",
              "    }\n",
              "\n",
              "    .dataframe thead tr:last-of-type th {\n",
              "        text-align: right;\n",
              "    }\n",
              "</style>\n",
              "<table border=\"1\" class=\"dataframe\">\n",
              "  <thead>\n",
              "    <tr>\n",
              "      <th></th>\n",
              "      <th></th>\n",
              "      <th colspan=\"3\" halign=\"left\">fare</th>\n",
              "    </tr>\n",
              "    <tr>\n",
              "      <th></th>\n",
              "      <th>class</th>\n",
              "      <th>First</th>\n",
              "      <th>Second</th>\n",
              "      <th>Third</th>\n",
              "    </tr>\n",
              "    <tr>\n",
              "      <th>embark_town</th>\n",
              "      <th>sex</th>\n",
              "      <th></th>\n",
              "      <th></th>\n",
              "      <th></th>\n",
              "    </tr>\n",
              "  </thead>\n",
              "  <tbody>\n",
              "    <tr>\n",
              "      <th rowspan=\"2\" valign=\"top\">Cherbourg</th>\n",
              "      <th>female</th>\n",
              "      <td>115.640309</td>\n",
              "      <td>25.268457</td>\n",
              "      <td>14.694926</td>\n",
              "    </tr>\n",
              "    <tr>\n",
              "      <th>male</th>\n",
              "      <td>93.536707</td>\n",
              "      <td>25.421250</td>\n",
              "      <td>9.352237</td>\n",
              "    </tr>\n",
              "    <tr>\n",
              "      <th rowspan=\"2\" valign=\"top\">Queenstown</th>\n",
              "      <th>female</th>\n",
              "      <td>90.000000</td>\n",
              "      <td>12.350000</td>\n",
              "      <td>10.307833</td>\n",
              "    </tr>\n",
              "    <tr>\n",
              "      <th>male</th>\n",
              "      <td>90.000000</td>\n",
              "      <td>12.350000</td>\n",
              "      <td>11.924251</td>\n",
              "    </tr>\n",
              "    <tr>\n",
              "      <th rowspan=\"2\" valign=\"top\">Southampton</th>\n",
              "      <th>female</th>\n",
              "      <td>99.026910</td>\n",
              "      <td>21.912687</td>\n",
              "      <td>18.670077</td>\n",
              "    </tr>\n",
              "    <tr>\n",
              "      <th>male</th>\n",
              "      <td>52.949947</td>\n",
              "      <td>19.232474</td>\n",
              "      <td>13.307149</td>\n",
              "    </tr>\n",
              "  </tbody>\n",
              "</table>\n",
              "</div>"
            ],
            "text/plain": [
              "                          fare                      \n",
              "class                    First     Second      Third\n",
              "embark_town sex                                     \n",
              "Cherbourg   female  115.640309  25.268457  14.694926\n",
              "            male     93.536707  25.421250   9.352237\n",
              "Queenstown  female   90.000000  12.350000  10.307833\n",
              "            male     90.000000  12.350000  11.924251\n",
              "Southampton female   99.026910  21.912687  18.670077\n",
              "            male     52.949947  19.232474  13.307149"
            ]
          },
          "execution_count": 12,
          "metadata": {},
          "output_type": "execute_result"
        }
      ],
      "source": [
        "titanic = sns.load_dataset(\"titanic\")\n",
        "titanic2 = titanic.pivot_table(index = [\"embark_town\",\"sex\"], columns = [\"class\"], values = [\"fare\"], aggfunc = \"mean\")\n",
        "titanic2"
      ]
    },
    {
      "cell_type": "markdown",
      "metadata": {
        "id": "EkFuDBOnlyOu"
      },
      "source": [
        "### Ejercicio 2\n",
        "<div style=\"background:#5D6D7E;padding:20px;color:#ffffff;margin-top:10px;\">\n",
        "Lee el DataFrame Titanic proveído por la librería Seaborn y carga en la variable <strong>number</strong> el resultado de calcular el número de mujeres mayores de 38 años que hayan pagado más de 30 y menos de 40 libras.\n",
        "</div>"
      ]
    },
    {
      "cell_type": "markdown",
      "metadata": {
        "id": "FbVYERlQlyOu"
      },
      "source": [
        "**EJERCICIO 2**  \n",
        "**Linea 1:** Cargamos nuestro dataset \"titanic\" y lo adignamos a nuestro dataframe con el mismo nombre.   \n",
        "**Linea 2:** Para responder esta pregunta necesitamos hacer uso de **&** para concatenar todas las condiciones que nos solicitan las cuales vamos a poner una a una, al final usamos el metodo **sum** para obtener un solo valor y lo asignamos a la variable number.  \n",
        "**Linea 3:** Mostramos nuestra variable number"
      ]
    },
    {
      "cell_type": "code",
      "execution_count": null,
      "metadata": {
        "id": "v8KwnY2vlyOu",
        "outputId": "aa1fd10a-025d-4250-d0a2-5af93e56ff6d"
      },
      "outputs": [
        {
          "data": {
            "text/plain": [
              "5"
            ]
          },
          "execution_count": 13,
          "metadata": {},
          "output_type": "execute_result"
        }
      ],
      "source": [
        "titanic = sns.load_dataset(\"titanic\")\n",
        "number = ((titanic.sex == \"female\") & (titanic.age > 38) & (titanic.fare > 30) & (titanic.fare < 40)).sum()\n",
        "number"
      ]
    },
    {
      "cell_type": "markdown",
      "metadata": {
        "id": "TxW9Gkb-lyOv"
      },
      "source": [
        "<div style=\"background:#D8D8D8;padding:20px;color:#000000;margin-top:10px;\">\n",
        "Prueba ahora tu solución ejecutando la siguiente celda:\n",
        "</div>"
      ]
    },
    {
      "cell_type": "code",
      "execution_count": null,
      "metadata": {
        "id": "kt1nCdqAlyOv",
        "outputId": "6b9b1080-3ef4-4413-c58a-5e3c01024672"
      },
      "outputs": [
        {
          "name": "stdout",
          "output_type": "stream",
          "text": [
            "Hay 5 mujeres mayores de 38 años que pagaron más de 30 y menos de 40 libras\n"
          ]
        }
      ],
      "source": [
        "print(\"Hay {} mujeres mayores de 38 años que pagaron más de 30 y menos de 40 libras\".format(number))"
      ]
    },
    {
      "cell_type": "markdown",
      "metadata": {
        "id": "YyiinmfPlyOv"
      },
      "source": [
        "### Ejercicio 3\n",
        "<div style=\"background:#5D6D7E;padding:20px;color:#ffffff;margin-top:10px;\">\n",
        "Escribe una función (llámala \"fill_nulls\") que reciba como argumento un dataframe Pandas y devuelva una copia del DataFrame tras sustituir los valores nulos de cada columna por el valor más frecuente en la columna sin usar bucles for o while.\n",
        "</div>"
      ]
    },
    {
      "cell_type": "code",
      "execution_count": null,
      "metadata": {
        "id": "CTDiZLKKlyOv",
        "outputId": "925b70a9-856e-4373-8894-0e94b219ebe5"
      },
      "outputs": [
        {
          "data": {
            "text/html": [
              "<div>\n",
              "<style scoped>\n",
              "    .dataframe tbody tr th:only-of-type {\n",
              "        vertical-align: middle;\n",
              "    }\n",
              "\n",
              "    .dataframe tbody tr th {\n",
              "        vertical-align: top;\n",
              "    }\n",
              "\n",
              "    .dataframe thead th {\n",
              "        text-align: right;\n",
              "    }\n",
              "</style>\n",
              "<table border=\"1\" class=\"dataframe\">\n",
              "  <thead>\n",
              "    <tr style=\"text-align: right;\">\n",
              "      <th></th>\n",
              "      <th>survived</th>\n",
              "      <th>pclass</th>\n",
              "      <th>sex</th>\n",
              "      <th>age</th>\n",
              "      <th>sibsp</th>\n",
              "      <th>parch</th>\n",
              "      <th>fare</th>\n",
              "      <th>embarked</th>\n",
              "      <th>class</th>\n",
              "      <th>who</th>\n",
              "      <th>adult_male</th>\n",
              "      <th>deck</th>\n",
              "      <th>embark_town</th>\n",
              "      <th>alive</th>\n",
              "      <th>alone</th>\n",
              "    </tr>\n",
              "  </thead>\n",
              "  <tbody>\n",
              "    <tr>\n",
              "      <th>0</th>\n",
              "      <td>0</td>\n",
              "      <td>3</td>\n",
              "      <td>male</td>\n",
              "      <td>24.0</td>\n",
              "      <td>0</td>\n",
              "      <td>0</td>\n",
              "      <td>8.05</td>\n",
              "      <td>S</td>\n",
              "      <td>Third</td>\n",
              "      <td>man</td>\n",
              "      <td>True</td>\n",
              "      <td>C</td>\n",
              "      <td>Southampton</td>\n",
              "      <td>no</td>\n",
              "      <td>True</td>\n",
              "    </tr>\n",
              "  </tbody>\n",
              "</table>\n",
              "</div>"
            ],
            "text/plain": [
              "   survived  pclass   sex   age  sibsp  parch  fare embarked  class  who  \\\n",
              "0         0       3  male  24.0      0      0  8.05        S  Third  man   \n",
              "\n",
              "   adult_male deck  embark_town alive  alone  \n",
              "0        True    C  Southampton    no   True  "
            ]
          },
          "execution_count": 15,
          "metadata": {},
          "output_type": "execute_result"
        }
      ],
      "source": [
        "titanic.mode()"
      ]
    },
    {
      "cell_type": "markdown",
      "metadata": {
        "id": "51tIH7gHlyOw"
      },
      "source": [
        "**EJERCICIO 3**  \n",
        "**Linea 1:** Definimos nuestra funcion, le damos nombre y le asignamos el parametro df.  \n",
        "**Linea 2:** Creamos la variable local **fill** en la que con la funcion **mode** la cual nos proporciona la moda (el valor que mas se repite) y usamos **iloc** para acceder a la primera fila que es la que contiene la moda.  \n",
        "**Linea 3:** Ya con nuestra variable fill procedemos a aplicarla en nuestro dataframe.   \n",
        "**Linea 2:** Escribimos la salida de la funcion y pedimos que nos de una copia del dataframe.  \n",
        "**Linea 2:** Cargamos el dataset \"titanic\".  \n",
        "**Linea 2:** Aplicamos la funcion creada.  \n",
        "**Linea 2:** Mostramos el dataframe para una rapida inspeccion visual comprobando que se aplico la funcion."
      ]
    },
    {
      "cell_type": "code",
      "execution_count": null,
      "metadata": {
        "id": "zHp9IKJ1lyOw"
      },
      "outputs": [],
      "source": [
        "def fill_nulls(df):\n",
        "    fill = df.mode().iloc[0]\n",
        "    df = df.fillna(fill)\n",
        "    return df.copy()"
      ]
    },
    {
      "cell_type": "code",
      "execution_count": null,
      "metadata": {
        "id": "U_i6By89lyOx",
        "outputId": "9d48cea3-cafa-452b-a100-d2b99d059638"
      },
      "outputs": [
        {
          "data": {
            "text/html": [
              "<div>\n",
              "<style scoped>\n",
              "    .dataframe tbody tr th:only-of-type {\n",
              "        vertical-align: middle;\n",
              "    }\n",
              "\n",
              "    .dataframe tbody tr th {\n",
              "        vertical-align: top;\n",
              "    }\n",
              "\n",
              "    .dataframe thead th {\n",
              "        text-align: right;\n",
              "    }\n",
              "</style>\n",
              "<table border=\"1\" class=\"dataframe\">\n",
              "  <thead>\n",
              "    <tr style=\"text-align: right;\">\n",
              "      <th></th>\n",
              "      <th>survived</th>\n",
              "      <th>pclass</th>\n",
              "      <th>sex</th>\n",
              "      <th>age</th>\n",
              "      <th>sibsp</th>\n",
              "      <th>parch</th>\n",
              "      <th>fare</th>\n",
              "      <th>embarked</th>\n",
              "      <th>class</th>\n",
              "      <th>who</th>\n",
              "      <th>adult_male</th>\n",
              "      <th>deck</th>\n",
              "      <th>embark_town</th>\n",
              "      <th>alive</th>\n",
              "      <th>alone</th>\n",
              "    </tr>\n",
              "  </thead>\n",
              "  <tbody>\n",
              "    <tr>\n",
              "      <th>0</th>\n",
              "      <td>0</td>\n",
              "      <td>3</td>\n",
              "      <td>male</td>\n",
              "      <td>22.0</td>\n",
              "      <td>1</td>\n",
              "      <td>0</td>\n",
              "      <td>7.2500</td>\n",
              "      <td>S</td>\n",
              "      <td>Third</td>\n",
              "      <td>man</td>\n",
              "      <td>True</td>\n",
              "      <td>C</td>\n",
              "      <td>Southampton</td>\n",
              "      <td>no</td>\n",
              "      <td>False</td>\n",
              "    </tr>\n",
              "    <tr>\n",
              "      <th>1</th>\n",
              "      <td>1</td>\n",
              "      <td>1</td>\n",
              "      <td>female</td>\n",
              "      <td>38.0</td>\n",
              "      <td>1</td>\n",
              "      <td>0</td>\n",
              "      <td>71.2833</td>\n",
              "      <td>C</td>\n",
              "      <td>First</td>\n",
              "      <td>woman</td>\n",
              "      <td>False</td>\n",
              "      <td>C</td>\n",
              "      <td>Cherbourg</td>\n",
              "      <td>yes</td>\n",
              "      <td>False</td>\n",
              "    </tr>\n",
              "    <tr>\n",
              "      <th>2</th>\n",
              "      <td>1</td>\n",
              "      <td>3</td>\n",
              "      <td>female</td>\n",
              "      <td>26.0</td>\n",
              "      <td>0</td>\n",
              "      <td>0</td>\n",
              "      <td>7.9250</td>\n",
              "      <td>S</td>\n",
              "      <td>Third</td>\n",
              "      <td>woman</td>\n",
              "      <td>False</td>\n",
              "      <td>C</td>\n",
              "      <td>Southampton</td>\n",
              "      <td>yes</td>\n",
              "      <td>True</td>\n",
              "    </tr>\n",
              "    <tr>\n",
              "      <th>3</th>\n",
              "      <td>1</td>\n",
              "      <td>1</td>\n",
              "      <td>female</td>\n",
              "      <td>35.0</td>\n",
              "      <td>1</td>\n",
              "      <td>0</td>\n",
              "      <td>53.1000</td>\n",
              "      <td>S</td>\n",
              "      <td>First</td>\n",
              "      <td>woman</td>\n",
              "      <td>False</td>\n",
              "      <td>C</td>\n",
              "      <td>Southampton</td>\n",
              "      <td>yes</td>\n",
              "      <td>False</td>\n",
              "    </tr>\n",
              "    <tr>\n",
              "      <th>4</th>\n",
              "      <td>0</td>\n",
              "      <td>3</td>\n",
              "      <td>male</td>\n",
              "      <td>35.0</td>\n",
              "      <td>0</td>\n",
              "      <td>0</td>\n",
              "      <td>8.0500</td>\n",
              "      <td>S</td>\n",
              "      <td>Third</td>\n",
              "      <td>man</td>\n",
              "      <td>True</td>\n",
              "      <td>C</td>\n",
              "      <td>Southampton</td>\n",
              "      <td>no</td>\n",
              "      <td>True</td>\n",
              "    </tr>\n",
              "    <tr>\n",
              "      <th>...</th>\n",
              "      <td>...</td>\n",
              "      <td>...</td>\n",
              "      <td>...</td>\n",
              "      <td>...</td>\n",
              "      <td>...</td>\n",
              "      <td>...</td>\n",
              "      <td>...</td>\n",
              "      <td>...</td>\n",
              "      <td>...</td>\n",
              "      <td>...</td>\n",
              "      <td>...</td>\n",
              "      <td>...</td>\n",
              "      <td>...</td>\n",
              "      <td>...</td>\n",
              "      <td>...</td>\n",
              "    </tr>\n",
              "    <tr>\n",
              "      <th>886</th>\n",
              "      <td>0</td>\n",
              "      <td>2</td>\n",
              "      <td>male</td>\n",
              "      <td>27.0</td>\n",
              "      <td>0</td>\n",
              "      <td>0</td>\n",
              "      <td>13.0000</td>\n",
              "      <td>S</td>\n",
              "      <td>Second</td>\n",
              "      <td>man</td>\n",
              "      <td>True</td>\n",
              "      <td>C</td>\n",
              "      <td>Southampton</td>\n",
              "      <td>no</td>\n",
              "      <td>True</td>\n",
              "    </tr>\n",
              "    <tr>\n",
              "      <th>887</th>\n",
              "      <td>1</td>\n",
              "      <td>1</td>\n",
              "      <td>female</td>\n",
              "      <td>19.0</td>\n",
              "      <td>0</td>\n",
              "      <td>0</td>\n",
              "      <td>30.0000</td>\n",
              "      <td>S</td>\n",
              "      <td>First</td>\n",
              "      <td>woman</td>\n",
              "      <td>False</td>\n",
              "      <td>B</td>\n",
              "      <td>Southampton</td>\n",
              "      <td>yes</td>\n",
              "      <td>True</td>\n",
              "    </tr>\n",
              "    <tr>\n",
              "      <th>888</th>\n",
              "      <td>0</td>\n",
              "      <td>3</td>\n",
              "      <td>female</td>\n",
              "      <td>24.0</td>\n",
              "      <td>1</td>\n",
              "      <td>2</td>\n",
              "      <td>23.4500</td>\n",
              "      <td>S</td>\n",
              "      <td>Third</td>\n",
              "      <td>woman</td>\n",
              "      <td>False</td>\n",
              "      <td>C</td>\n",
              "      <td>Southampton</td>\n",
              "      <td>no</td>\n",
              "      <td>False</td>\n",
              "    </tr>\n",
              "    <tr>\n",
              "      <th>889</th>\n",
              "      <td>1</td>\n",
              "      <td>1</td>\n",
              "      <td>male</td>\n",
              "      <td>26.0</td>\n",
              "      <td>0</td>\n",
              "      <td>0</td>\n",
              "      <td>30.0000</td>\n",
              "      <td>C</td>\n",
              "      <td>First</td>\n",
              "      <td>man</td>\n",
              "      <td>True</td>\n",
              "      <td>C</td>\n",
              "      <td>Cherbourg</td>\n",
              "      <td>yes</td>\n",
              "      <td>True</td>\n",
              "    </tr>\n",
              "    <tr>\n",
              "      <th>890</th>\n",
              "      <td>0</td>\n",
              "      <td>3</td>\n",
              "      <td>male</td>\n",
              "      <td>32.0</td>\n",
              "      <td>0</td>\n",
              "      <td>0</td>\n",
              "      <td>7.7500</td>\n",
              "      <td>Q</td>\n",
              "      <td>Third</td>\n",
              "      <td>man</td>\n",
              "      <td>True</td>\n",
              "      <td>C</td>\n",
              "      <td>Queenstown</td>\n",
              "      <td>no</td>\n",
              "      <td>True</td>\n",
              "    </tr>\n",
              "  </tbody>\n",
              "</table>\n",
              "<p>891 rows × 15 columns</p>\n",
              "</div>"
            ],
            "text/plain": [
              "     survived  pclass     sex   age  sibsp  parch     fare embarked   class  \\\n",
              "0           0       3    male  22.0      1      0   7.2500        S   Third   \n",
              "1           1       1  female  38.0      1      0  71.2833        C   First   \n",
              "2           1       3  female  26.0      0      0   7.9250        S   Third   \n",
              "3           1       1  female  35.0      1      0  53.1000        S   First   \n",
              "4           0       3    male  35.0      0      0   8.0500        S   Third   \n",
              "..        ...     ...     ...   ...    ...    ...      ...      ...     ...   \n",
              "886         0       2    male  27.0      0      0  13.0000        S  Second   \n",
              "887         1       1  female  19.0      0      0  30.0000        S   First   \n",
              "888         0       3  female  24.0      1      2  23.4500        S   Third   \n",
              "889         1       1    male  26.0      0      0  30.0000        C   First   \n",
              "890         0       3    male  32.0      0      0   7.7500        Q   Third   \n",
              "\n",
              "       who  adult_male deck  embark_town alive  alone  \n",
              "0      man        True    C  Southampton    no  False  \n",
              "1    woman       False    C    Cherbourg   yes  False  \n",
              "2    woman       False    C  Southampton   yes   True  \n",
              "3    woman       False    C  Southampton   yes  False  \n",
              "4      man        True    C  Southampton    no   True  \n",
              "..     ...         ...  ...          ...   ...    ...  \n",
              "886    man        True    C  Southampton    no   True  \n",
              "887  woman       False    B  Southampton   yes   True  \n",
              "888  woman       False    C  Southampton    no  False  \n",
              "889    man        True    C    Cherbourg   yes   True  \n",
              "890    man        True    C   Queenstown    no   True  \n",
              "\n",
              "[891 rows x 15 columns]"
            ]
          },
          "execution_count": 17,
          "metadata": {},
          "output_type": "execute_result"
        }
      ],
      "source": [
        "titanic = sns.load_dataset(\"titanic\")\n",
        "titanic = fill_nulls(titanic)\n",
        "titanic"
      ]
    },
    {
      "cell_type": "markdown",
      "metadata": {
        "id": "BXdcJMTblyOy"
      },
      "source": [
        "<div style=\"background:#D8D8D8;padding:20px;color:#000000;margin-top:10px;\">\n",
        "Prueba ahora tu solución ejecutando la siguiente celda:\n",
        "</div>"
      ]
    },
    {
      "cell_type": "code",
      "execution_count": null,
      "metadata": {
        "id": "N_PyO3wGlyOy",
        "outputId": "e6cee8a5-b023-4ce3-dbaf-0de7b5593603"
      },
      "outputs": [
        {
          "name": "stdout",
          "output_type": "stream",
          "text": [
            "24.0\n",
            "S\n",
            "C\n"
          ]
        }
      ],
      "source": [
        "titanic = sns.load_dataset(\"titanic\")\n",
        "titanic = fill_nulls(titanic)\n",
        "print(titanic.iloc[888, 3])\n",
        "print(titanic.iloc[61, 7])\n",
        "print(titanic.iloc[0, 11])"
      ]
    },
    {
      "cell_type": "markdown",
      "metadata": {
        "id": "Rf1WbM4glyOz"
      },
      "source": [
        "# NIVEL AVANZADO: 2 puntos\n",
        "<div style = \"float:right\"><a style=\"text-decoration:none\" href = \"#inicio\">Inicio</a></div>"
      ]
    },
    {
      "cell_type": "markdown",
      "metadata": {
        "id": "o8aEim3klyOz"
      },
      "source": [
        "### Ejercicio 1\n",
        "<div style=\"background:#5D6D7E;padding:20px;color:#ffffff;margin-top:10px;\">\n",
        "    Carga en la variable <strong>titanic</strong> el DataFrame titanic proveído por la librería Seaborn, y utilizando el método groupby, calcula la edad media de los pasajeros según el puerto de embarque. Almacena el resultado en la variable \"mean_age\". Asegúrate de que en tu resultado solo estás incluyendo la variable \"age\" (y los nombres de los puertos, por supuesto).\n",
        "</div>"
      ]
    },
    {
      "cell_type": "markdown",
      "metadata": {
        "id": "Lo4aCADIlyO0"
      },
      "source": [
        "**EJERCICIO 1a**\n",
        "**Linea 1:** Cargamos el dataframe titanic.  \n",
        "**Linea 1:** Usamos el metodo groupby para agrupar las personas de acuerdo al puerto de embarque, de este resultado vamos a tomar solo la columna de la edad y con el metodo **mean** obtenemos el promedio y lo guardamos en la variable mean_age.  \n",
        "**Linea 1:** Mostramos nuestra variable mean_age"
      ]
    },
    {
      "cell_type": "code",
      "execution_count": null,
      "metadata": {
        "id": "lmSXurEslyO1",
        "outputId": "c514698c-0ad9-4d43-bedd-444e3aeb904b"
      },
      "outputs": [
        {
          "data": {
            "text/plain": [
              "embark_town\n",
              "Cherbourg      30.814769\n",
              "Queenstown     28.089286\n",
              "Southampton    29.445397\n",
              "Name: age, dtype: float64"
            ]
          },
          "execution_count": 19,
          "metadata": {},
          "output_type": "execute_result"
        }
      ],
      "source": [
        "titanic = sns.load_dataset(\"titanic\")\n",
        "mean_age = titanic.groupby([\"embark_town\"])[\"age\"].mean()\n",
        "mean_age"
      ]
    },
    {
      "cell_type": "markdown",
      "metadata": {
        "id": "4odLJjCKlyO1"
      },
      "source": [
        "<div style=\"background:#D8D8D8;padding:20px;color:#000000;margin-top:10px;\">\n",
        "Prueba ahora tu solución ejecutando la siguiente celda:\n",
        "</div>"
      ]
    },
    {
      "cell_type": "code",
      "execution_count": null,
      "metadata": {
        "id": "7diu3WRFlyO1",
        "outputId": "ecd3837a-bf22-4149-9387-72010410508f"
      },
      "outputs": [
        {
          "name": "stdout",
          "output_type": "stream",
          "text": [
            "La edad media de los pasajeros de Queenstown fue de 28.089285714285715 años\n"
          ]
        }
      ],
      "source": [
        "print(\"La edad media de los pasajeros de Queenstown fue de {} años\".format(mean_age[\"Queenstown\"]))"
      ]
    },
    {
      "cell_type": "markdown",
      "metadata": {
        "id": "Gq8qKPh9lyO2"
      },
      "source": [
        "<div style=\"background:#5D6D7E;padding:20px;color:#ffffff;margin-top:10px;\">\n",
        "    A continuación, usando el método <i>fillna</i> <strong>una sola vez</strong>, sustituye (inplace) los valores nulos del campo \"age\" del DataFrame <strong>titanic</strong> por los valores obtenidos en el apartado anterior (es decir, sustituye en el DataFrame <strong>titanic</strong> cada edad nula por el valor medio de la edad de los pasajeros que hayan embarcado en el mismo puerto).\n",
        "</div>"
      ]
    },
    {
      "cell_type": "markdown",
      "metadata": {
        "id": "-WE1Ex57lyO3"
      },
      "source": [
        "**EJERCICIO 1b**  \n",
        "**Linea 1:** En esta linea tomando la columna \"age\", con esto vamos a operar sobre esta columna especifica del dataframe, entonce primero vamos a poner como indice del dataframe el puerto de embarque con el metodo **set_index** y asi aprovechamos que pandas compara los indicies del dataframe cuando hace operaciones teniendo en cuenta que nuestra variable mean_age tiene el mismo indice, una vez hecho esto seleccionamos solo la columna \"age\" y le aplicamos el metodo **fillna** para que reemplace los valores nulos, como ultimo volvemos a poner los valores de los indices por defecto con **reset_index** le damos ademas el parametro **drop=True** para que no nos genere una nueva columna con los valores del indice anterior.  \n",
        "**Linea 2:** Mostramos nuestro dataframe para hacer una breve inspeccion de nuestro indice."
      ]
    },
    {
      "cell_type": "code",
      "execution_count": null,
      "metadata": {
        "id": "06QLClFYlyO3"
      },
      "outputs": [],
      "source": [
        "titanic.age = titanic.set_index(\"embark_town\")[\"age\"].fillna(mean_age).reset_index(drop=True)"
      ]
    },
    {
      "cell_type": "code",
      "execution_count": null,
      "metadata": {
        "id": "gl4e2RadlyO3",
        "outputId": "e562a179-c4de-4ec3-d6a3-ea49c38f8c36"
      },
      "outputs": [
        {
          "data": {
            "text/html": [
              "<div>\n",
              "<style scoped>\n",
              "    .dataframe tbody tr th:only-of-type {\n",
              "        vertical-align: middle;\n",
              "    }\n",
              "\n",
              "    .dataframe tbody tr th {\n",
              "        vertical-align: top;\n",
              "    }\n",
              "\n",
              "    .dataframe thead th {\n",
              "        text-align: right;\n",
              "    }\n",
              "</style>\n",
              "<table border=\"1\" class=\"dataframe\">\n",
              "  <thead>\n",
              "    <tr style=\"text-align: right;\">\n",
              "      <th></th>\n",
              "      <th>survived</th>\n",
              "      <th>pclass</th>\n",
              "      <th>sex</th>\n",
              "      <th>age</th>\n",
              "      <th>sibsp</th>\n",
              "      <th>parch</th>\n",
              "      <th>fare</th>\n",
              "      <th>embarked</th>\n",
              "      <th>class</th>\n",
              "      <th>who</th>\n",
              "      <th>adult_male</th>\n",
              "      <th>deck</th>\n",
              "      <th>embark_town</th>\n",
              "      <th>alive</th>\n",
              "      <th>alone</th>\n",
              "    </tr>\n",
              "  </thead>\n",
              "  <tbody>\n",
              "    <tr>\n",
              "      <th>0</th>\n",
              "      <td>0</td>\n",
              "      <td>3</td>\n",
              "      <td>male</td>\n",
              "      <td>22.000000</td>\n",
              "      <td>1</td>\n",
              "      <td>0</td>\n",
              "      <td>7.2500</td>\n",
              "      <td>S</td>\n",
              "      <td>Third</td>\n",
              "      <td>man</td>\n",
              "      <td>True</td>\n",
              "      <td>NaN</td>\n",
              "      <td>Southampton</td>\n",
              "      <td>no</td>\n",
              "      <td>False</td>\n",
              "    </tr>\n",
              "    <tr>\n",
              "      <th>1</th>\n",
              "      <td>1</td>\n",
              "      <td>1</td>\n",
              "      <td>female</td>\n",
              "      <td>38.000000</td>\n",
              "      <td>1</td>\n",
              "      <td>0</td>\n",
              "      <td>71.2833</td>\n",
              "      <td>C</td>\n",
              "      <td>First</td>\n",
              "      <td>woman</td>\n",
              "      <td>False</td>\n",
              "      <td>C</td>\n",
              "      <td>Cherbourg</td>\n",
              "      <td>yes</td>\n",
              "      <td>False</td>\n",
              "    </tr>\n",
              "    <tr>\n",
              "      <th>2</th>\n",
              "      <td>1</td>\n",
              "      <td>3</td>\n",
              "      <td>female</td>\n",
              "      <td>26.000000</td>\n",
              "      <td>0</td>\n",
              "      <td>0</td>\n",
              "      <td>7.9250</td>\n",
              "      <td>S</td>\n",
              "      <td>Third</td>\n",
              "      <td>woman</td>\n",
              "      <td>False</td>\n",
              "      <td>NaN</td>\n",
              "      <td>Southampton</td>\n",
              "      <td>yes</td>\n",
              "      <td>True</td>\n",
              "    </tr>\n",
              "    <tr>\n",
              "      <th>3</th>\n",
              "      <td>1</td>\n",
              "      <td>1</td>\n",
              "      <td>female</td>\n",
              "      <td>35.000000</td>\n",
              "      <td>1</td>\n",
              "      <td>0</td>\n",
              "      <td>53.1000</td>\n",
              "      <td>S</td>\n",
              "      <td>First</td>\n",
              "      <td>woman</td>\n",
              "      <td>False</td>\n",
              "      <td>C</td>\n",
              "      <td>Southampton</td>\n",
              "      <td>yes</td>\n",
              "      <td>False</td>\n",
              "    </tr>\n",
              "    <tr>\n",
              "      <th>4</th>\n",
              "      <td>0</td>\n",
              "      <td>3</td>\n",
              "      <td>male</td>\n",
              "      <td>35.000000</td>\n",
              "      <td>0</td>\n",
              "      <td>0</td>\n",
              "      <td>8.0500</td>\n",
              "      <td>S</td>\n",
              "      <td>Third</td>\n",
              "      <td>man</td>\n",
              "      <td>True</td>\n",
              "      <td>NaN</td>\n",
              "      <td>Southampton</td>\n",
              "      <td>no</td>\n",
              "      <td>True</td>\n",
              "    </tr>\n",
              "    <tr>\n",
              "      <th>...</th>\n",
              "      <td>...</td>\n",
              "      <td>...</td>\n",
              "      <td>...</td>\n",
              "      <td>...</td>\n",
              "      <td>...</td>\n",
              "      <td>...</td>\n",
              "      <td>...</td>\n",
              "      <td>...</td>\n",
              "      <td>...</td>\n",
              "      <td>...</td>\n",
              "      <td>...</td>\n",
              "      <td>...</td>\n",
              "      <td>...</td>\n",
              "      <td>...</td>\n",
              "      <td>...</td>\n",
              "    </tr>\n",
              "    <tr>\n",
              "      <th>886</th>\n",
              "      <td>0</td>\n",
              "      <td>2</td>\n",
              "      <td>male</td>\n",
              "      <td>27.000000</td>\n",
              "      <td>0</td>\n",
              "      <td>0</td>\n",
              "      <td>13.0000</td>\n",
              "      <td>S</td>\n",
              "      <td>Second</td>\n",
              "      <td>man</td>\n",
              "      <td>True</td>\n",
              "      <td>NaN</td>\n",
              "      <td>Southampton</td>\n",
              "      <td>no</td>\n",
              "      <td>True</td>\n",
              "    </tr>\n",
              "    <tr>\n",
              "      <th>887</th>\n",
              "      <td>1</td>\n",
              "      <td>1</td>\n",
              "      <td>female</td>\n",
              "      <td>19.000000</td>\n",
              "      <td>0</td>\n",
              "      <td>0</td>\n",
              "      <td>30.0000</td>\n",
              "      <td>S</td>\n",
              "      <td>First</td>\n",
              "      <td>woman</td>\n",
              "      <td>False</td>\n",
              "      <td>B</td>\n",
              "      <td>Southampton</td>\n",
              "      <td>yes</td>\n",
              "      <td>True</td>\n",
              "    </tr>\n",
              "    <tr>\n",
              "      <th>888</th>\n",
              "      <td>0</td>\n",
              "      <td>3</td>\n",
              "      <td>female</td>\n",
              "      <td>29.445397</td>\n",
              "      <td>1</td>\n",
              "      <td>2</td>\n",
              "      <td>23.4500</td>\n",
              "      <td>S</td>\n",
              "      <td>Third</td>\n",
              "      <td>woman</td>\n",
              "      <td>False</td>\n",
              "      <td>NaN</td>\n",
              "      <td>Southampton</td>\n",
              "      <td>no</td>\n",
              "      <td>False</td>\n",
              "    </tr>\n",
              "    <tr>\n",
              "      <th>889</th>\n",
              "      <td>1</td>\n",
              "      <td>1</td>\n",
              "      <td>male</td>\n",
              "      <td>26.000000</td>\n",
              "      <td>0</td>\n",
              "      <td>0</td>\n",
              "      <td>30.0000</td>\n",
              "      <td>C</td>\n",
              "      <td>First</td>\n",
              "      <td>man</td>\n",
              "      <td>True</td>\n",
              "      <td>C</td>\n",
              "      <td>Cherbourg</td>\n",
              "      <td>yes</td>\n",
              "      <td>True</td>\n",
              "    </tr>\n",
              "    <tr>\n",
              "      <th>890</th>\n",
              "      <td>0</td>\n",
              "      <td>3</td>\n",
              "      <td>male</td>\n",
              "      <td>32.000000</td>\n",
              "      <td>0</td>\n",
              "      <td>0</td>\n",
              "      <td>7.7500</td>\n",
              "      <td>Q</td>\n",
              "      <td>Third</td>\n",
              "      <td>man</td>\n",
              "      <td>True</td>\n",
              "      <td>NaN</td>\n",
              "      <td>Queenstown</td>\n",
              "      <td>no</td>\n",
              "      <td>True</td>\n",
              "    </tr>\n",
              "  </tbody>\n",
              "</table>\n",
              "<p>891 rows × 15 columns</p>\n",
              "</div>"
            ],
            "text/plain": [
              "     survived  pclass     sex        age  sibsp  parch     fare embarked  \\\n",
              "0           0       3    male  22.000000      1      0   7.2500        S   \n",
              "1           1       1  female  38.000000      1      0  71.2833        C   \n",
              "2           1       3  female  26.000000      0      0   7.9250        S   \n",
              "3           1       1  female  35.000000      1      0  53.1000        S   \n",
              "4           0       3    male  35.000000      0      0   8.0500        S   \n",
              "..        ...     ...     ...        ...    ...    ...      ...      ...   \n",
              "886         0       2    male  27.000000      0      0  13.0000        S   \n",
              "887         1       1  female  19.000000      0      0  30.0000        S   \n",
              "888         0       3  female  29.445397      1      2  23.4500        S   \n",
              "889         1       1    male  26.000000      0      0  30.0000        C   \n",
              "890         0       3    male  32.000000      0      0   7.7500        Q   \n",
              "\n",
              "      class    who  adult_male deck  embark_town alive  alone  \n",
              "0     Third    man        True  NaN  Southampton    no  False  \n",
              "1     First  woman       False    C    Cherbourg   yes  False  \n",
              "2     Third  woman       False  NaN  Southampton   yes   True  \n",
              "3     First  woman       False    C  Southampton   yes  False  \n",
              "4     Third    man        True  NaN  Southampton    no   True  \n",
              "..      ...    ...         ...  ...          ...   ...    ...  \n",
              "886  Second    man        True  NaN  Southampton    no   True  \n",
              "887   First  woman       False    B  Southampton   yes   True  \n",
              "888   Third  woman       False  NaN  Southampton    no  False  \n",
              "889   First    man        True    C    Cherbourg   yes   True  \n",
              "890   Third    man        True  NaN   Queenstown    no   True  \n",
              "\n",
              "[891 rows x 15 columns]"
            ]
          },
          "execution_count": 22,
          "metadata": {},
          "output_type": "execute_result"
        }
      ],
      "source": [
        "#titanic.age = titanic.set_index(\"embark_town\")[\"age\"].fillna(mean_age, inplace = True)\n",
        "titanic"
      ]
    },
    {
      "cell_type": "markdown",
      "metadata": {
        "id": "nyxJC54flyO3"
      },
      "source": [
        "<div style=\"background:#D8D8D8;padding:20px;color:#000000;margin-top:10px;\">\n",
        "Prueba ahora tu solución ejecutando la siguiente celda:\n",
        "</div>"
      ]
    },
    {
      "cell_type": "code",
      "execution_count": null,
      "metadata": {
        "id": "FXLKVU0SlyO3",
        "outputId": "12cdb4a0-9a2c-43cb-acb6-d3659dc20305"
      },
      "outputs": [
        {
          "name": "stdout",
          "output_type": "stream",
          "text": [
            "30.81476923076923\n",
            "28.089285714285715\n",
            "29.44539711191336\n"
          ]
        }
      ],
      "source": [
        "print(titanic.iloc[26, 3])\n",
        "print(titanic.iloc[5, 3])\n",
        "print(titanic.iloc[17, 3])"
      ]
    },
    {
      "cell_type": "code",
      "execution_count": null,
      "metadata": {
        "id": "OSPXFUKalyO4"
      },
      "outputs": [],
      "source": []
    }
  ],
  "metadata": {
    "kernelspec": {
      "display_name": "Python 3 (ipykernel)",
      "language": "python",
      "name": "python3"
    },
    "language_info": {
      "codemirror_mode": {
        "name": "ipython",
        "version": 3
      },
      "file_extension": ".py",
      "mimetype": "text/x-python",
      "name": "python",
      "nbconvert_exporter": "python",
      "pygments_lexer": "ipython3",
      "version": "3.9.12"
    },
    "colab": {
      "provenance": [],
      "include_colab_link": true
    }
  },
  "nbformat": 4,
  "nbformat_minor": 0
}